{
  "nbformat": 4,
  "nbformat_minor": 0,
  "metadata": {
    "colab": {
      "name": "Classifying Skin Lesions.ipynb",
      "provenance": [],
      "collapsed_sections": [],
      "toc_visible": true,
      "machine_shape": "hm"
    },
    "kernelspec": {
      "name": "python3",
      "display_name": "Python 3"
    }
  },
  "cells": [
    {
      "cell_type": "markdown",
      "metadata": {
        "id": "rCknI9hOOTj6",
        "colab_type": "text"
      },
      "source": [
        "Note:\n",
        "\n",
        "(R) indicates an external resource(e.g. websites, articles). These are resources that assisted me in overcoming many pain-points while building this project, which usually are articles that provide an intuitive explaination for the functions used(e.g. the map function from pandas)"
      ]
    },
    {
      "cell_type": "code",
      "metadata": {
        "id": "MiQrk0qH_ivG",
        "colab_type": "code",
        "outputId": "3e8ab6f8-bfa5-4ad3-fa7c-b60a422d6c78",
        "colab": {
          "base_uri": "https://localhost:8080/",
          "height": 98
        }
      },
      "source": [
        "import numpy as np\n",
        "import pandas as pd\n",
        "from PIL import Image\n",
        "import matplotlib.pyplot as plt\n",
        "\n",
        "import keras\n",
        "from keras import backend as K\n",
        "from keras.models import Sequential\n",
        "from keras.layers import Activation\n",
        "from keras.layers.core import Dense\n",
        "from keras.layers.core import Dropout\n",
        "from keras.optimizers import *\n",
        "from keras.metrics import *\n",
        "from keras.utils import to_categorical\n",
        "from keras.utils import np_utils\n",
        "from keras.preprocessing.image import ImageDataGenerator\n",
        "\n",
        "\n",
        "from sklearn.model_selection import train_test_split"
      ],
      "execution_count": 0,
      "outputs": [
        {
          "output_type": "stream",
          "text": [
            "Using TensorFlow backend.\n"
          ],
          "name": "stderr"
        },
        {
          "output_type": "display_data",
          "data": {
            "text/html": [
              "<p style=\"color: red;\">\n",
              "The default version of TensorFlow in Colab will soon switch to TensorFlow 2.x.<br>\n",
              "We recommend you <a href=\"https://www.tensorflow.org/guide/migrate\" target=\"_blank\">upgrade</a> now \n",
              "or ensure your notebook will continue to use TensorFlow 1.x via the <code>%tensorflow_version 1.x</code> magic:\n",
              "<a href=\"https://colab.research.google.com/notebooks/tensorflow_version.ipynb\" target=\"_blank\">more info</a>.</p>\n"
            ],
            "text/plain": [
              "<IPython.core.display.HTML object>"
            ]
          },
          "metadata": {
            "tags": []
          }
        }
      ]
    },
    {
      "cell_type": "markdown",
      "metadata": {
        "id": "eeYbv3H1lE-J",
        "colab_type": "text"
      },
      "source": [
        "#Data"
      ]
    },
    {
      "cell_type": "code",
      "metadata": {
        "id": "CYWAAIMOC55t",
        "colab_type": "code",
        "colab": {}
      },
      "source": [
        "#mounting google drive -> Google Colab Only\n",
        "from google.colab import drive\n",
        "drive.mount('/content/drive')"
      ],
      "execution_count": 0,
      "outputs": []
    },
    {
      "cell_type": "code",
      "metadata": {
        "id": "igfNY_DjENSO",
        "colab_type": "code",
        "colab": {}
      },
      "source": [
        "#dictionary to convert abbreviation of lesion types to full lesion type\n",
        "type_dictionary = {\n",
        "    'akiec' : 'Actinic Keratoses',\n",
        "    'bcc' : 'Basal cell carcinoma',\n",
        "    'bkl' : 'Benign keratosis',\n",
        "    'df' : 'Dermatofibroma',\n",
        "    'nv' : 'Melanocytic nevi',\n",
        "    'mel' : 'Melanoma',\n",
        "    'vasc' : 'Vascular skin lesions',\n",
        "}\n",
        "\n",
        "#root directory to HAM10000 dataset\n",
        "root_dir = '/content/drive/My Drive/Datasets/HAM10000/'"
      ],
      "execution_count": 0,
      "outputs": []
    },
    {
      "cell_type": "code",
      "metadata": {
        "id": "oTRbQFeCDQGY",
        "colab_type": "code",
        "colab": {}
      },
      "source": [
        "#metadata dataframe\n",
        "df = pd.read_csv('/content/drive/My Drive/Datasets/HAM10000/HAM10000_metadata.csv')\n",
        "\n",
        "#make the column 'dx'(lesion type) the category datatype\n",
        "df['dx']=df['dx'].astype('category')\n",
        "\n",
        "#create a label column using the integer representation of the category / type of lesion\n",
        "df['label']=df['dx'].cat.codes\n",
        "\n",
        "#create a type column using 'dx'(abbreviation of lesion type) & map the values to full lesion type\n",
        "df['type'] = df['dx'].map(type_dictionary)\n",
        "\n",
        "df['path'] = root_dir + 'images/'+ df['image_id'].astype(str) + '.jpg'\n",
        "\n",
        "#drop useless columns -> we are only predicting the type of lesion\n",
        "df = df.drop(columns=['age', 'image_id', 'lesion_id', 'sex', 'dx_type', 'dx', 'localization'])"
      ],
      "execution_count": 0,
      "outputs": []
    },
    {
      "cell_type": "code",
      "metadata": {
        "id": "253zbLdZDr2y",
        "colab_type": "code",
        "colab": {}
      },
      "source": [
        "#creating image column\n",
        "#(R) map function w lambdas: https://pandas.pydata.org/pandas-docs/version/0.19/generated/pandas.Series.map.html\n",
        "df['image'] = df['path'].map(lambda x: np.array(Image.open(x).resize((100,75))))"
      ],
      "execution_count": 0,
      "outputs": []
    },
    {
      "cell_type": "code",
      "metadata": {
        "id": "TQ5XqdldTZWG",
        "colab_type": "code",
        "colab": {}
      },
      "source": [
        "df.to_pickle(root_dir+\"/dataframe.pickle\")"
      ],
      "execution_count": 0,
      "outputs": []
    },
    {
      "cell_type": "code",
      "metadata": {
        "id": "tucoO0kORDSC",
        "colab_type": "code",
        "colab": {}
      },
      "source": [
        "df = pd.read_pickle(root_dir+\"/dataframe.pickle\")"
      ],
      "execution_count": 0,
      "outputs": []
    },
    {
      "cell_type": "code",
      "metadata": {
        "id": "YwHoItkaPErq",
        "colab_type": "code",
        "colab": {}
      },
      "source": [
        "#Create training & testing tensors for features & labels\n",
        "X_train, X_test, y_train, y_test = train_test_split(df['image'], df['label'], test_size = 0.2)\n",
        "\n",
        "#Create training & validation tensors\n",
        "X_train, X_validate, y_train, y_validate = train_test_split(X_train, y_train, test_size = 0.1)\n",
        "\n",
        "#returns number of unique classes\n",
        "num_classes = y_train.unique().size\n",
        "\n",
        "#converting to np arrays\n",
        "X_train = np.array(X_train.tolist())\n",
        "X_validate = np.array(X_validate.tolist())\n",
        "X_test = np.array(X_test.tolist())\n",
        "# y_train = np.array(y_train)\n",
        "# y_validate = np.array(y_validate)\n",
        "# y_test = np.array(y_test)\n",
        "\n",
        "# Normalisation\n",
        "X_train = X_train/255\n",
        "X_validate = X_validate/255\n",
        "X_test = X_test/255\n",
        "\n",
        "#Re-shaping data\n",
        "X_train = X_train.reshape(X_train.shape[0], 75, 100, 3)\n",
        "X_validate = X_validate.reshape(X_validate.shape[0], 75, 100, 3)\n",
        "X_test = X_test.reshape(X_test.shape[0], 75, 100, 3)\n",
        "\n",
        "#One-hot-encoding for labels\n",
        "y_train = np_utils.to_categorical(y_train, num_classes)\n",
        "y_validate = np_utils.to_categorical(y_validate, num_classes)\n",
        "y_test = np_utils.to_categorical(y_test, num_classes)"
      ],
      "execution_count": 0,
      "outputs": []
    },
    {
      "cell_type": "markdown",
      "metadata": {
        "id": "YAQCZeZHQ7nR",
        "colab_type": "text"
      },
      "source": [
        "# **Problem:** Data Imbalance\n"
      ]
    },
    {
      "cell_type": "code",
      "metadata": {
        "id": "veI2zgOhRJD7",
        "colab_type": "code",
        "outputId": "ce3f72be-e371-4551-cf94-818a226ee495",
        "colab": {
          "base_uri": "https://localhost:8080/",
          "height": 381
        }
      },
      "source": [
        "#df['type'].value_counts() returns the number of time each type of skin lesion appears in the dataset\n",
        "#After plotting the data, it's clear there's a data imbalance\n",
        "#(R) Learn more about plotting here: https://datatofish.com/plot-dataframe-pandas/ \n",
        "df['type'].value_counts().plot(kind='bar')"
      ],
      "execution_count": 0,
      "outputs": [
        {
          "output_type": "execute_result",
          "data": {
            "text/plain": [
              "<matplotlib.axes._subplots.AxesSubplot at 0x7fcf6c2801d0>"
            ]
          },
          "metadata": {
            "tags": []
          },
          "execution_count": 64
        },
        {
          "output_type": "display_data",
          "data": {
            "image/png": "[encoded data removed]",
            "text/plain": [
              "<Figure size 432x288 with 1 Axes>"
            ]
          },
          "metadata": {
            "tags": []
          }
        }
      ]
    },
    {
      "cell_type": "markdown",
      "metadata": {
        "id": "ShS1vHjKXeu4",
        "colab_type": "text"
      },
      "source": [
        "Because the data is unbalanced across all classes, the model will have a bias towards classes like \"Melanocytic nevi\".\n",
        "\n",
        "(R) Here's an intuitive explaination for why data imbalance is bad: https://towardsdatascience.com/handling-imbalanced-datasets-in-machine-learning-7a0e84220f28\n",
        "\n",
        "To balance the dataset, we will have to re-sample / essentially duplicate the less frequent samples, so that all classes have the same amount of samples. This method is called oversampling.\n",
        "\n",
        "Or even better, we can use oversampling and Keras' ImageDataGenerator to augment images, this way you are introducing new data into the dataset instead just duplicating existing samples!\n",
        "\n",
        "(R) Solution of oversampling + data augmentation was proposed here: https://medium.com/analytics-vidhya/how-to-apply-data-augmentation-to-deal-with-unbalanced-datasets-in-20-lines-of-code-ada8521320c9"
      ]
    },
    {
      "cell_type": "code",
      "metadata": {
        "id": "ajiAeh5LThYh",
        "colab_type": "code",
        "outputId": "915d7439-b11f-45f0-9508-2b47ffecc3b9",
        "colab": {
          "base_uri": "https://localhost:8080/",
          "height": 72
        }
      },
      "source": [
        "#A custom class to generate images on-the-fly to balance a given dataset\n",
        "#Code from: https://medium.com/analytics-vidhya/how-to-apply-data-augmentation-to-deal-with-unbalanced-datasets-in-20-lines-of-code-ada8521320c9\n",
        "from keras.utils.data_utils import Sequence\n",
        "from imblearn.over_sampling import RandomOverSampler\n",
        "from imblearn.keras import balanced_batch_generator\n",
        "\n",
        "class BalancedDataGenerator(Sequence):\n",
        "    \"\"\"ImageDataGenerator + RandomOversampling\"\"\"\n",
        "    def __init__(self, x, y, datagen, batch_size=32):\n",
        "        self.datagen = datagen\n",
        "        self.batch_size = batch_size\n",
        "        self._shape = x.shape        \n",
        "        datagen.fit(x)\n",
        "        self.gen, self.steps_per_epoch = balanced_batch_generator(x.reshape(x.shape[0], -1), y, sampler=RandomOverSampler(), batch_size=self.batch_size, keep_sparse=True)\n",
        "\n",
        "    def __len__(self):\n",
        "        return self._shape[0] // self.batch_size\n",
        "\n",
        "    def __getitem__(self, idx):\n",
        "        x_batch, y_batch = self.gen.__next__()\n",
        "        x_batch = x_batch.reshape(-1, *self._shape[1:])\n",
        "        return self.datagen.flow(x_batch, y_batch, batch_size=self.batch_size).next()"
      ],
      "execution_count": 0,
      "outputs": [
        {
          "output_type": "stream",
          "text": [
            "/usr/local/lib/python3.6/dist-packages/sklearn/externals/six.py:31: DeprecationWarning: The module is deprecated in version 0.21 and will be removed in version 0.23 since we've dropped support for Python 2.7. Please rely on the official version of six (https://pypi.org/project/six/).\n",
            "  \"(https://pypi.org/project/six/).\", DeprecationWarning)\n"
          ],
          "name": "stderr"
        }
      ]
    },
    {
      "cell_type": "code",
      "metadata": {
        "id": "TxWBNN6BT1BA",
        "colab_type": "code",
        "colab": {}
      },
      "source": [
        "#data augmentation + normalization\n",
        "datagen = ImageDataGenerator()\n",
        "balanced_gen = BalancedDataGenerator(X_train, y_train, datagen, batch_size=32)\n",
        "steps_per_epoch = balanced_gen.steps_per_epoch"
      ],
      "execution_count": 0,
      "outputs": []
    },
    {
      "cell_type": "markdown",
      "metadata": {
        "id": "NeLVrHxzl9-_",
        "colab_type": "text"
      },
      "source": [
        "#Model"
      ]
    },
    {
      "cell_type": "code",
      "metadata": {
        "id": "n_cOo5SRl-81",
        "colab_type": "code",
        "outputId": "d328c07f-74a6-43a8-c5f7-0dd0a9cc81fd",
        "colab": {
          "base_uri": "https://localhost:8080/",
          "height": 494
        }
      },
      "source": [
        "#(R) Model performance stats: https://github.com/jcjohnson/cnn-benchmarks\n",
        "#^Chose ResNet because it performs the best according to the above benchmarks\n",
        "resnet_model = keras.applications.resnet.ResNet50(include_top=False, weights='imagenet', input_shape=(75, 100, 3))"
      ],
      "execution_count": 0,
      "outputs": [
        {
          "output_type": "stream",
          "text": [
            "WARNING:tensorflow:From /usr/local/lib/python3.6/dist-packages/keras/backend/tensorflow_backend.py:66: The name tf.get_default_graph is deprecated. Please use tf.compat.v1.get_default_graph instead.\n",
            "\n",
            "WARNING:tensorflow:From /usr/local/lib/python3.6/dist-packages/keras/backend/tensorflow_backend.py:541: The name tf.placeholder is deprecated. Please use tf.compat.v1.placeholder instead.\n",
            "\n",
            "WARNING:tensorflow:From /usr/local/lib/python3.6/dist-packages/keras/backend/tensorflow_backend.py:4432: The name tf.random_uniform is deprecated. Please use tf.random.uniform instead.\n",
            "\n",
            "WARNING:tensorflow:From /usr/local/lib/python3.6/dist-packages/keras/backend/tensorflow_backend.py:190: The name tf.get_default_session is deprecated. Please use tf.compat.v1.get_default_session instead.\n",
            "\n",
            "WARNING:tensorflow:From /usr/local/lib/python3.6/dist-packages/keras/backend/tensorflow_backend.py:197: The name tf.ConfigProto is deprecated. Please use tf.compat.v1.ConfigProto instead.\n",
            "\n",
            "WARNING:tensorflow:From /usr/local/lib/python3.6/dist-packages/keras/backend/tensorflow_backend.py:203: The name tf.Session is deprecated. Please use tf.compat.v1.Session instead.\n",
            "\n",
            "WARNING:tensorflow:From /usr/local/lib/python3.6/dist-packages/keras/backend/tensorflow_backend.py:207: The name tf.global_variables is deprecated. Please use tf.compat.v1.global_variables instead.\n",
            "\n",
            "WARNING:tensorflow:From /usr/local/lib/python3.6/dist-packages/keras/backend/tensorflow_backend.py:216: The name tf.is_variable_initialized is deprecated. Please use tf.compat.v1.is_variable_initialized instead.\n",
            "\n",
            "WARNING:tensorflow:From /usr/local/lib/python3.6/dist-packages/keras/backend/tensorflow_backend.py:223: The name tf.variables_initializer is deprecated. Please use tf.compat.v1.variables_initializer instead.\n",
            "\n",
            "WARNING:tensorflow:From /usr/local/lib/python3.6/dist-packages/keras/backend/tensorflow_backend.py:2041: The name tf.nn.fused_batch_norm is deprecated. Please use tf.compat.v1.nn.fused_batch_norm instead.\n",
            "\n",
            "WARNING:tensorflow:From /usr/local/lib/python3.6/dist-packages/keras/backend/tensorflow_backend.py:148: The name tf.placeholder_with_default is deprecated. Please use tf.compat.v1.placeholder_with_default instead.\n",
            "\n",
            "WARNING:tensorflow:From /usr/local/lib/python3.6/dist-packages/keras/backend/tensorflow_backend.py:4267: The name tf.nn.max_pool is deprecated. Please use tf.nn.max_pool2d instead.\n",
            "\n",
            "Downloading data from https://github.com/keras-team/keras-applications/releases/download/resnet/resnet50_weights_tf_dim_ordering_tf_kernels_notop.h5\n",
            "94773248/94765736 [==============================] - 1s 0us/step\n"
          ],
          "name": "stdout"
        }
      ]
    },
    {
      "cell_type": "code",
      "metadata": {
        "id": "Vf9WaA3RsI19",
        "colab_type": "code",
        "outputId": "417c323c-5a34-4cbc-b0ca-2933fb473d41",
        "colab": {
          "base_uri": "https://localhost:8080/",
          "height": 72
        }
      },
      "source": [
        "#setting the last layer of resnet to be a flatten layer\n",
        "output = resnet_model.layers[-1].output\n",
        "output = keras.layers.Flatten()(output)\n",
        "resnet_model = keras.Model(resnet_model.input, output=output)\n",
        "\n",
        "#make layers untrainable\n",
        "for layer in resnet_model.layers:\n",
        "  layer.trainable=False"
      ],
      "execution_count": 0,
      "outputs": [
        {
          "output_type": "stream",
          "text": [
            "/usr/local/lib/python3.6/dist-packages/ipykernel_launcher.py:3: UserWarning: Update your `Model` call to the Keras 2 API: `Model(Tensor(\"in..., outputs=Tensor(\"fl...)`\n",
            "  This is separate from the ipykernel package so we can avoid doing imports until\n"
          ],
          "name": "stderr"
        }
      ]
    },
    {
      "cell_type": "code",
      "metadata": {
        "id": "iDj0GGOEnK7-",
        "colab_type": "code",
        "colab": {}
      },
      "source": [
        "#creates model w 2 dense layers after resnet\n",
        "#dropout is used to prevent overfitting\n",
        "model = Sequential()\n",
        "model.add(resnet_model)\n",
        "model.add(Dense(512, activation='relu'))\n",
        "model.add(Dropout(rate=0.3))\n",
        "model.add(Dense(512, activation='relu'))\n",
        "model.add(Dropout(rate=0.3))\n",
        "model.add(Dense(num_classes, activation='softmax'))"
      ],
      "execution_count": 0,
      "outputs": []
    },
    {
      "cell_type": "code",
      "metadata": {
        "id": "2r55urP2h-Tg",
        "colab_type": "code",
        "colab": {}
      },
      "source": [
        ""
      ],
      "execution_count": 0,
      "outputs": []
    },
    {
      "cell_type": "code",
      "metadata": {
        "id": "rdMCvw2Utt0t",
        "colab_type": "code",
        "colab": {}
      },
      "source": [
        "optimizer = keras.optimizers.Adam(lr=0.0005)\n",
        "model.compile(optimizer = optimizer, loss = \"categorical_crossentropy\", metrics=[\"accuracy\"])"
      ],
      "execution_count": 0,
      "outputs": []
    },
    {
      "cell_type": "code",
      "metadata": {
        "id": "GgqMlzZ3W9Nj",
        "colab_type": "code",
        "colab": {}
      },
      "source": [
        "reduce_lr = keras.callbacks.ReduceLROnPlateau(monitor='val_loss', factor=0.2, patience=4, min_lr=0.0001)"
      ],
      "execution_count": 0,
      "outputs": []
    },
    {
      "cell_type": "code",
      "metadata": {
        "id": "zzUIR2J71h7J",
        "colab_type": "code",
        "outputId": "e404b2fd-80b8-427b-a1bb-7ec3fae7f4c0",
        "colab": {
          "base_uri": "https://localhost:8080/",
          "height": 1000
        }
      },
      "source": [
        "model.load_weights(root_dir+'weights')\n",
        "model.fit_generator(balanced_gen, validation_data=(X_validate, y_validate), epochs=100, verbose=1)\n",
        "model.save_weights(root_dir+'weights')"
      ],
      "execution_count": 0,
      "outputs": [
        {
          "output_type": "stream",
          "text": [
            "Epoch 1/100\n",
            "225/225 [==============================] - 196s 873ms/step - loss: 0.2308 - acc: 0.9379 - val_loss: 1.4918 - val_acc: 0.6870\n",
            "Epoch 2/100\n",
            "225/225 [==============================] - 189s 841ms/step - loss: 0.2107 - acc: 0.9443 - val_loss: 1.1920 - val_acc: 0.6870\n",
            "Epoch 3/100\n",
            "225/225 [==============================] - 190s 842ms/step - loss: 0.1769 - acc: 0.9504 - val_loss: 1.6016 - val_acc: 0.6870\n",
            "Epoch 4/100\n",
            "225/225 [==============================] - 190s 843ms/step - loss: 0.1448 - acc: 0.9587 - val_loss: 1.1902 - val_acc: 0.6870\n",
            "Epoch 5/100\n",
            "225/225 [==============================] - 189s 841ms/step - loss: 0.1114 - acc: 0.9672 - val_loss: 1.2595 - val_acc: 0.6870\n",
            "Epoch 6/100\n",
            "225/225 [==============================] - 190s 843ms/step - loss: 0.1255 - acc: 0.9612 - val_loss: 2.2068 - val_acc: 0.6870\n",
            "Epoch 7/100\n",
            "225/225 [==============================] - 191s 849ms/step - loss: 0.1057 - acc: 0.9678 - val_loss: 1.6584 - val_acc: 0.6870\n",
            "Epoch 8/100\n",
            "225/225 [==============================] - 189s 840ms/step - loss: 0.1071 - acc: 0.9718 - val_loss: 2.4397 - val_acc: 0.6870\n",
            "Epoch 9/100\n",
            "225/225 [==============================] - 190s 844ms/step - loss: 0.0945 - acc: 0.9714 - val_loss: 2.3388 - val_acc: 0.6870\n",
            "Epoch 10/100\n",
            "225/225 [==============================] - 189s 840ms/step - loss: 0.0810 - acc: 0.9758 - val_loss: 2.9487 - val_acc: 0.6870\n",
            "Epoch 11/100\n",
            "225/225 [==============================] - 191s 847ms/step - loss: 0.1003 - acc: 0.9734 - val_loss: 2.2633 - val_acc: 0.6870\n",
            "Epoch 12/100\n",
            "225/225 [==============================] - 190s 843ms/step - loss: 0.1109 - acc: 0.9721 - val_loss: 2.4347 - val_acc: 0.6870\n",
            "Epoch 13/100\n",
            "225/225 [==============================] - 189s 842ms/step - loss: 0.1147 - acc: 0.9704 - val_loss: 1.6143 - val_acc: 0.6870\n",
            "Epoch 14/100\n",
            "225/225 [==============================] - 189s 840ms/step - loss: 0.1237 - acc: 0.9683 - val_loss: 1.3193 - val_acc: 0.6870\n",
            "Epoch 15/100\n",
            "225/225 [==============================] - 191s 850ms/step - loss: 0.0994 - acc: 0.9742 - val_loss: 1.5792 - val_acc: 0.6870\n",
            "Epoch 16/100\n",
            "225/225 [==============================] - 190s 843ms/step - loss: 0.1039 - acc: 0.9736 - val_loss: 1.3674 - val_acc: 0.6870\n",
            "Epoch 17/100\n",
            "225/225 [==============================] - 191s 849ms/step - loss: 0.1123 - acc: 0.9714 - val_loss: 1.7899 - val_acc: 0.1135\n",
            "Epoch 18/100\n",
            "225/225 [==============================] - 188s 836ms/step - loss: 0.0974 - acc: 0.9756 - val_loss: 1.2662 - val_acc: 0.6870\n",
            "Epoch 19/100\n",
            "225/225 [==============================] - 190s 843ms/step - loss: 0.0854 - acc: 0.9771 - val_loss: 1.1852 - val_acc: 0.6870\n",
            "Epoch 20/100\n",
            "225/225 [==============================] - 189s 840ms/step - loss: 0.0711 - acc: 0.9807 - val_loss: 1.3729 - val_acc: 0.6870\n",
            "Epoch 21/100\n",
            "225/225 [==============================] - 190s 843ms/step - loss: 0.0809 - acc: 0.9788 - val_loss: 1.3265 - val_acc: 0.6870\n",
            "Epoch 22/100\n",
            "225/225 [==============================] - 190s 844ms/step - loss: 0.0737 - acc: 0.9796 - val_loss: 1.1979 - val_acc: 0.6870\n",
            "Epoch 23/100\n",
            "225/225 [==============================] - 190s 843ms/step - loss: 0.0731 - acc: 0.9804 - val_loss: 1.6045 - val_acc: 0.1471\n",
            "Epoch 24/100\n",
            "225/225 [==============================] - 191s 848ms/step - loss: 0.0901 - acc: 0.9796 - val_loss: 1.3189 - val_acc: 0.6870\n",
            "Epoch 25/100\n",
            "225/225 [==============================] - 190s 843ms/step - loss: 0.0763 - acc: 0.9815 - val_loss: 1.7948 - val_acc: 0.6870\n",
            "Epoch 26/100\n",
            "225/225 [==============================] - 191s 848ms/step - loss: 0.0703 - acc: 0.9801 - val_loss: 1.9032 - val_acc: 0.6870\n",
            "Epoch 27/100\n",
            "225/225 [==============================] - 191s 847ms/step - loss: 0.0728 - acc: 0.9811 - val_loss: 1.1917 - val_acc: 0.6870\n",
            "Epoch 28/100\n",
            "225/225 [==============================] - 189s 841ms/step - loss: 0.0840 - acc: 0.9782 - val_loss: 1.5381 - val_acc: 0.6870\n",
            "Epoch 29/100\n",
            "225/225 [==============================] - 190s 845ms/step - loss: 0.0647 - acc: 0.9831 - val_loss: 2.0824 - val_acc: 0.6870\n",
            "Epoch 30/100\n",
            "225/225 [==============================] - 191s 847ms/step - loss: 0.0682 - acc: 0.9812 - val_loss: 1.3727 - val_acc: 0.6870\n",
            "Epoch 31/100\n",
            "225/225 [==============================] - 190s 843ms/step - loss: 0.0522 - acc: 0.9869 - val_loss: 1.2411 - val_acc: 0.6870\n",
            "Epoch 32/100\n",
            "225/225 [==============================] - 190s 846ms/step - loss: 0.0542 - acc: 0.9871 - val_loss: 1.7304 - val_acc: 0.6870\n",
            "Epoch 33/100\n",
            "225/225 [==============================] - 190s 847ms/step - loss: 0.0674 - acc: 0.9849 - val_loss: 2.0369 - val_acc: 0.6870\n",
            "Epoch 34/100\n",
            "225/225 [==============================] - 192s 852ms/step - loss: 0.0546 - acc: 0.9853 - val_loss: 1.9389 - val_acc: 0.6870\n",
            "Epoch 35/100\n",
            "225/225 [==============================] - 192s 853ms/step - loss: 0.0814 - acc: 0.9811 - val_loss: 1.9161 - val_acc: 0.6870\n",
            "Epoch 36/100\n",
            "225/225 [==============================] - 191s 850ms/step - loss: 0.0712 - acc: 0.9810 - val_loss: 1.4831 - val_acc: 0.6870\n",
            "Epoch 37/100\n",
            "225/225 [==============================] - 191s 848ms/step - loss: 0.0650 - acc: 0.9833 - val_loss: 1.6694 - val_acc: 0.6870\n",
            "Epoch 38/100\n",
            "225/225 [==============================] - 190s 844ms/step - loss: 0.0561 - acc: 0.9861 - val_loss: 1.8225 - val_acc: 0.6870\n",
            "Epoch 39/100\n",
            "225/225 [==============================] - 192s 854ms/step - loss: 0.0394 - acc: 0.9903 - val_loss: 1.5610 - val_acc: 0.6870\n",
            "Epoch 40/100\n",
            "225/225 [==============================] - 191s 847ms/step - loss: 0.0577 - acc: 0.9864 - val_loss: 1.9792 - val_acc: 0.6870\n",
            "Epoch 41/100\n",
            "225/225 [==============================] - 190s 844ms/step - loss: 0.0616 - acc: 0.9853 - val_loss: 1.9748 - val_acc: 0.6870\n",
            "Epoch 42/100\n",
            "225/225 [==============================] - 191s 850ms/step - loss: 0.0527 - acc: 0.9881 - val_loss: 2.5587 - val_acc: 0.0349\n",
            "Epoch 43/100\n",
            "225/225 [==============================] - 191s 849ms/step - loss: 0.0564 - acc: 0.9873 - val_loss: 1.5781 - val_acc: 0.6870\n",
            "Epoch 44/100\n",
            "225/225 [==============================] - 190s 847ms/step - loss: 0.0692 - acc: 0.9839 - val_loss: 1.6261 - val_acc: 0.6845\n",
            "Epoch 45/100\n",
            "225/225 [==============================] - 191s 849ms/step - loss: 0.0866 - acc: 0.9819 - val_loss: 1.9158 - val_acc: 0.6870\n",
            "Epoch 46/100\n",
            "225/225 [==============================] - 189s 838ms/step - loss: 0.0643 - acc: 0.9828 - val_loss: 1.1780 - val_acc: 0.6870\n",
            "Epoch 47/100\n",
            "225/225 [==============================] - 188s 837ms/step - loss: 0.0621 - acc: 0.9854 - val_loss: 1.1198 - val_acc: 0.6870\n",
            "Epoch 48/100\n",
            "225/225 [==============================] - 189s 841ms/step - loss: 0.0511 - acc: 0.9885 - val_loss: 1.6324 - val_acc: 0.6870\n",
            "Epoch 49/100\n",
            "225/225 [==============================] - 189s 838ms/step - loss: 0.0561 - acc: 0.9860 - val_loss: 1.4321 - val_acc: 0.6870\n",
            "Epoch 50/100\n",
            "225/225 [==============================] - 189s 839ms/step - loss: 0.0579 - acc: 0.9875 - val_loss: 1.3015 - val_acc: 0.6870\n",
            "Epoch 51/100\n",
            "225/225 [==============================] - 188s 837ms/step - loss: 0.0584 - acc: 0.9858 - val_loss: 1.4187 - val_acc: 0.6870\n",
            "Epoch 52/100\n",
            "225/225 [==============================] - 189s 842ms/step - loss: 0.0503 - acc: 0.9887 - val_loss: 1.8461 - val_acc: 0.6870\n",
            "Epoch 53/100\n",
            "225/225 [==============================] - 189s 840ms/step - loss: 0.0652 - acc: 0.9853 - val_loss: 1.5628 - val_acc: 0.6870\n",
            "Epoch 54/100\n",
            "225/225 [==============================] - 189s 839ms/step - loss: 0.0593 - acc: 0.9865 - val_loss: 1.5615 - val_acc: 0.6870\n",
            "Epoch 55/100\n",
            "225/225 [==============================] - 189s 841ms/step - loss: 0.0392 - acc: 0.9907 - val_loss: 1.5997 - val_acc: 0.6870\n",
            "Epoch 56/100\n",
            "225/225 [==============================] - 189s 839ms/step - loss: 0.0499 - acc: 0.9896 - val_loss: 1.4326 - val_acc: 0.6870\n",
            "Epoch 57/100\n",
            "225/225 [==============================] - 190s 843ms/step - loss: 0.0516 - acc: 0.9878 - val_loss: 3.8796 - val_acc: 0.0087\n",
            "Epoch 58/100\n",
            "225/225 [==============================] - 188s 837ms/step - loss: 0.0488 - acc: 0.9893 - val_loss: 1.5312 - val_acc: 0.6870\n",
            "Epoch 59/100\n",
            "225/225 [==============================] - 188s 837ms/step - loss: 0.0286 - acc: 0.9924 - val_loss: 1.5011 - val_acc: 0.6870\n",
            "Epoch 60/100\n",
            "225/225 [==============================] - 189s 839ms/step - loss: 0.0454 - acc: 0.9901 - val_loss: 1.4245 - val_acc: 0.6197\n",
            "Epoch 61/100\n",
            "225/225 [==============================] - 189s 838ms/step - loss: 0.0487 - acc: 0.9904 - val_loss: 1.5864 - val_acc: 0.6870\n",
            "Epoch 62/100\n",
            "225/225 [==============================] - 190s 843ms/step - loss: 0.0705 - acc: 0.9843 - val_loss: 1.9176 - val_acc: 0.6870\n",
            "Epoch 63/100\n",
            "225/225 [==============================] - 189s 842ms/step - loss: 0.0516 - acc: 0.9897 - val_loss: 1.6672 - val_acc: 0.6870\n",
            "Epoch 64/100\n",
            "225/225 [==============================] - 188s 838ms/step - loss: 0.0514 - acc: 0.9879 - val_loss: 1.5568 - val_acc: 0.6870\n",
            "Epoch 65/100\n",
            "225/225 [==============================] - 190s 844ms/step - loss: 0.0493 - acc: 0.9897 - val_loss: 1.4574 - val_acc: 0.6870\n",
            "Epoch 66/100\n",
            "225/225 [==============================] - 189s 839ms/step - loss: 0.0566 - acc: 0.9875 - val_loss: 1.4076 - val_acc: 0.6870\n",
            "Epoch 67/100\n",
            "225/225 [==============================] - 189s 840ms/step - loss: 0.0522 - acc: 0.9894 - val_loss: 1.4636 - val_acc: 0.6671\n",
            "Epoch 68/100\n",
            "225/225 [==============================] - 189s 839ms/step - loss: 0.0574 - acc: 0.9879 - val_loss: 1.5701 - val_acc: 0.6870\n",
            "Epoch 69/100\n",
            "225/225 [==============================] - 188s 837ms/step - loss: 0.0364 - acc: 0.9932 - val_loss: 1.8720 - val_acc: 0.6870\n",
            "Epoch 70/100\n",
            "225/225 [==============================] - 189s 840ms/step - loss: 0.0430 - acc: 0.9903 - val_loss: 1.5503 - val_acc: 0.6870\n",
            "Epoch 71/100\n",
            "225/225 [==============================] - 188s 837ms/step - loss: 0.0463 - acc: 0.9900 - val_loss: 2.2257 - val_acc: 0.0636\n",
            "Epoch 72/100\n",
            "225/225 [==============================] - 189s 839ms/step - loss: 0.0575 - acc: 0.9885 - val_loss: 1.5281 - val_acc: 0.6858\n",
            "Epoch 73/100\n",
            "225/225 [==============================] - 188s 837ms/step - loss: 0.0642 - acc: 0.9889 - val_loss: 1.2998 - val_acc: 0.6870\n",
            "Epoch 74/100\n",
            "225/225 [==============================] - 189s 840ms/step - loss: 0.0390 - acc: 0.9913 - val_loss: 1.4533 - val_acc: 0.6870\n",
            "Epoch 75/100\n",
            "225/225 [==============================] - 190s 842ms/step - loss: 0.0389 - acc: 0.9914 - val_loss: 1.3688 - val_acc: 0.6870\n",
            "Epoch 76/100\n",
            "225/225 [==============================] - 188s 837ms/step - loss: 0.0560 - acc: 0.9874 - val_loss: 1.4407 - val_acc: 0.6870\n",
            "Epoch 77/100\n",
            "225/225 [==============================] - 190s 843ms/step - loss: 0.0369 - acc: 0.9913 - val_loss: 1.6296 - val_acc: 0.6870\n",
            "Epoch 78/100\n",
            "225/225 [==============================] - 189s 841ms/step - loss: 0.0379 - acc: 0.9917 - val_loss: 1.2642 - val_acc: 0.6870\n",
            "Epoch 79/100\n",
            "225/225 [==============================] - 189s 841ms/step - loss: 0.0388 - acc: 0.9914 - val_loss: 1.3822 - val_acc: 0.6721\n",
            "Epoch 80/100\n",
            "225/225 [==============================] - 190s 843ms/step - loss: 0.0381 - acc: 0.9922 - val_loss: 1.4059 - val_acc: 0.6870\n",
            "Epoch 81/100\n",
            "225/225 [==============================] - 189s 840ms/step - loss: 0.0271 - acc: 0.9936 - val_loss: 1.4132 - val_acc: 0.6870\n",
            "Epoch 82/100\n",
            "225/225 [==============================] - 188s 836ms/step - loss: 0.0338 - acc: 0.9939 - val_loss: 1.7309 - val_acc: 0.6870\n",
            "Epoch 83/100\n",
            "225/225 [==============================] - 190s 846ms/step - loss: 0.0361 - acc: 0.9932 - val_loss: 1.6870 - val_acc: 0.6870\n",
            "Epoch 84/100\n",
            "225/225 [==============================] - 188s 836ms/step - loss: 0.0566 - acc: 0.9903 - val_loss: 3.3700 - val_acc: 0.1047\n",
            "Epoch 85/100\n",
            "225/225 [==============================] - 188s 835ms/step - loss: 0.0352 - acc: 0.9929 - val_loss: 2.6777 - val_acc: 0.6870\n",
            "Epoch 86/100\n",
            "225/225 [==============================] - 190s 845ms/step - loss: 0.0491 - acc: 0.9911 - val_loss: 2.6442 - val_acc: 0.6870\n",
            "Epoch 87/100\n",
            "225/225 [==============================] - 188s 836ms/step - loss: 0.0518 - acc: 0.9913 - val_loss: 1.9147 - val_acc: 0.6870\n",
            "Epoch 88/100\n",
            "225/225 [==============================] - 190s 844ms/step - loss: 0.0334 - acc: 0.9931 - val_loss: 2.0758 - val_acc: 0.6870\n",
            "Epoch 89/100\n",
            "225/225 [==============================] - 188s 837ms/step - loss: 0.0375 - acc: 0.9925 - val_loss: 2.3763 - val_acc: 0.6870\n",
            "Epoch 90/100\n",
            "225/225 [==============================] - 189s 838ms/step - loss: 0.0472 - acc: 0.9911 - val_loss: 2.7966 - val_acc: 0.6870\n",
            "Epoch 91/100\n",
            "225/225 [==============================] - 189s 839ms/step - loss: 0.0431 - acc: 0.9914 - val_loss: 2.4879 - val_acc: 0.6870\n",
            "Epoch 92/100\n",
            "225/225 [==============================] - 188s 836ms/step - loss: 0.0318 - acc: 0.9933 - val_loss: 1.7836 - val_acc: 0.6870\n",
            "Epoch 93/100\n",
            "225/225 [==============================] - 188s 835ms/step - loss: 0.0405 - acc: 0.9914 - val_loss: 2.6480 - val_acc: 0.6870\n",
            "Epoch 94/100\n",
            "225/225 [==============================] - 187s 833ms/step - loss: 0.0433 - acc: 0.9924 - val_loss: 2.4079 - val_acc: 0.6870\n",
            "Epoch 95/100\n",
            "225/225 [==============================] - 189s 839ms/step - loss: 0.0472 - acc: 0.9910 - val_loss: 2.1213 - val_acc: 0.6870\n",
            "Epoch 96/100\n",
            "225/225 [==============================] - 189s 841ms/step - loss: 0.0637 - acc: 0.9901 - val_loss: 2.3453 - val_acc: 0.6870\n",
            "Epoch 97/100\n",
            "225/225 [==============================] - 190s 843ms/step - loss: 0.0389 - acc: 0.9928 - val_loss: 1.8090 - val_acc: 0.6870\n",
            "Epoch 98/100\n",
            "225/225 [==============================] - 189s 838ms/step - loss: 0.0432 - acc: 0.9913 - val_loss: 3.3718 - val_acc: 0.6870\n",
            "Epoch 99/100\n",
            "225/225 [==============================] - 188s 836ms/step - loss: 0.0405 - acc: 0.9919 - val_loss: 2.7303 - val_acc: 0.6870\n",
            "Epoch 100/100\n",
            "225/225 [==============================] - 189s 838ms/step - loss: 0.0453 - acc: 0.9910 - val_loss: 2.4612 - val_acc: 0.6870\n"
          ],
          "name": "stdout"
        }
      ]
    },
    {
      "cell_type": "code",
      "metadata": {
        "id": "iX-mkktovfCV",
        "colab_type": "code",
        "outputId": "7ecd7591-52d8-4ea1-b0fd-d9f97c87c0a6",
        "colab": {
          "base_uri": "https://localhost:8080/",
          "height": 52
        }
      },
      "source": [
        "model.evaluate(x=X_test, y=y_test)"
      ],
      "execution_count": 0,
      "outputs": [
        {
          "output_type": "stream",
          "text": [
            "2003/2003 [==============================] - 49s 25ms/step\n"
          ],
          "name": "stdout"
        },
        {
          "output_type": "execute_result",
          "data": {
            "text/plain": [
              "[1.6618104976115082, 0.680978531963636]"
            ]
          },
          "metadata": {
            "tags": []
          },
          "execution_count": 61
        }
      ]
    }
  ]
}